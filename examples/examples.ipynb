{
 "cells": [
  {
   "cell_type": "markdown",
   "id": "0b8be2aa-1813-45a9-8b22-f104aa9772d4",
   "metadata": {},
   "source": [
    "Hypothetical interaction"
   ]
  },
  {
   "cell_type": "code",
   "id": "0b606b69-6454-4ec0-9579-899be09fecfc",
   "metadata": {
    "ExecuteTime": {
     "end_time": "2025-10-03T05:58:27.597255Z",
     "start_time": "2025-10-03T05:58:27.584381Z"
    }
   },
   "source": [
    "import sys\n",
    "import os\n",
    "\n",
    "# Add actrme to path\n",
    "sys.path.append(os.path.abspath(os.path.join(os.path.abspath(\".\"), '..', 'actrme')))\n",
    "from importlib import reload\n",
    "import actrme.models.model\n",
    "import actrme.basic\n",
    "from actrme.modules.declarative import DeclarativeMemory\n",
    "import pandas as pd\n",
    "\n",
    "reload(actrme.basic)\n",
    "reload(actrme.models.model)\n"
   ],
   "outputs": [
    {
     "data": {
      "text/plain": [
       "<module 'actrme.model' from '/Users/andreastocco/Documents/Research/ACTR-ME/actrme/model.py'>"
      ]
     },
     "execution_count": 64,
     "metadata": {},
     "output_type": "execute_result"
    }
   ],
   "execution_count": 64
  },
  {
   "cell_type": "markdown",
   "id": "0bf04914-6e15-4990-8682-bf6f1d998d94",
   "metadata": {},
   "source": [
    "# Examples\n",
    "\n",
    "Here is a list of examples.\n",
    "\n",
    "## 1. A Memory Experiment\n",
    "\n",
    "We will start with a memory experoiment. The experiment is taken from a paper by Xu et al. (2025), and the original data is available on OSF.\n",
    "\n",
    "The experiment used a retrieval practice procedure: Participants are presented with simple paired associates, e.g., a pair of Swahili-English words, such as \"samaki/fish\". Each pair is presented during a study trial, and then probed in a series of test trials."
   ]
  },
  {
   "cell_type": "code",
   "id": "5f31cec7-dfce-4b34-9cbf-c87f66769542",
   "metadata": {
    "ExecuteTime": {
     "end_time": "2025-10-03T05:58:27.625475Z",
     "start_time": "2025-10-03T05:58:27.613509Z"
    }
   },
   "source": [
    "data = pd.read_csv(\"../data/memory_experiment.csv\")\n",
    "data"
   ],
   "outputs": [
    {
     "data": {
      "text/plain": [
       "     subj  item    resp     RT   type     time  acc\n",
       "0    1501     3    fish  2.295  study    3.131    1\n",
       "1    1501     3    fish  0.888   test    5.426    1\n",
       "2    1501    12    book  3.128  study   10.248    1\n",
       "3    1501    12    book  0.841   test   12.776    1\n",
       "4    1501     2    beer  4.203  study   18.824    1\n",
       "..    ...   ...     ...    ...    ...      ...  ...\n",
       "146  1501    10   cloud  2.137   test  712.918    1\n",
       "147  1501     5  office  1.025   test  715.292    1\n",
       "148  1501    12    book  0.975   test  717.400    1\n",
       "149  1501    16    work  1.042   test  719.503    1\n",
       "150  1501    21   color  1.024   test  721.706    1\n",
       "\n",
       "[151 rows x 7 columns]"
      ],
      "text/html": [
       "<div>\n",
       "<style scoped>\n",
       "    .dataframe tbody tr th:only-of-type {\n",
       "        vertical-align: middle;\n",
       "    }\n",
       "\n",
       "    .dataframe tbody tr th {\n",
       "        vertical-align: top;\n",
       "    }\n",
       "\n",
       "    .dataframe thead th {\n",
       "        text-align: right;\n",
       "    }\n",
       "</style>\n",
       "<table border=\"1\" class=\"dataframe\">\n",
       "  <thead>\n",
       "    <tr style=\"text-align: right;\">\n",
       "      <th></th>\n",
       "      <th>subj</th>\n",
       "      <th>item</th>\n",
       "      <th>resp</th>\n",
       "      <th>RT</th>\n",
       "      <th>type</th>\n",
       "      <th>time</th>\n",
       "      <th>acc</th>\n",
       "    </tr>\n",
       "  </thead>\n",
       "  <tbody>\n",
       "    <tr>\n",
       "      <th>0</th>\n",
       "      <td>1501</td>\n",
       "      <td>3</td>\n",
       "      <td>fish</td>\n",
       "      <td>2.295</td>\n",
       "      <td>study</td>\n",
       "      <td>3.131</td>\n",
       "      <td>1</td>\n",
       "    </tr>\n",
       "    <tr>\n",
       "      <th>1</th>\n",
       "      <td>1501</td>\n",
       "      <td>3</td>\n",
       "      <td>fish</td>\n",
       "      <td>0.888</td>\n",
       "      <td>test</td>\n",
       "      <td>5.426</td>\n",
       "      <td>1</td>\n",
       "    </tr>\n",
       "    <tr>\n",
       "      <th>2</th>\n",
       "      <td>1501</td>\n",
       "      <td>12</td>\n",
       "      <td>book</td>\n",
       "      <td>3.128</td>\n",
       "      <td>study</td>\n",
       "      <td>10.248</td>\n",
       "      <td>1</td>\n",
       "    </tr>\n",
       "    <tr>\n",
       "      <th>3</th>\n",
       "      <td>1501</td>\n",
       "      <td>12</td>\n",
       "      <td>book</td>\n",
       "      <td>0.841</td>\n",
       "      <td>test</td>\n",
       "      <td>12.776</td>\n",
       "      <td>1</td>\n",
       "    </tr>\n",
       "    <tr>\n",
       "      <th>4</th>\n",
       "      <td>1501</td>\n",
       "      <td>2</td>\n",
       "      <td>beer</td>\n",
       "      <td>4.203</td>\n",
       "      <td>study</td>\n",
       "      <td>18.824</td>\n",
       "      <td>1</td>\n",
       "    </tr>\n",
       "    <tr>\n",
       "      <th>...</th>\n",
       "      <td>...</td>\n",
       "      <td>...</td>\n",
       "      <td>...</td>\n",
       "      <td>...</td>\n",
       "      <td>...</td>\n",
       "      <td>...</td>\n",
       "      <td>...</td>\n",
       "    </tr>\n",
       "    <tr>\n",
       "      <th>146</th>\n",
       "      <td>1501</td>\n",
       "      <td>10</td>\n",
       "      <td>cloud</td>\n",
       "      <td>2.137</td>\n",
       "      <td>test</td>\n",
       "      <td>712.918</td>\n",
       "      <td>1</td>\n",
       "    </tr>\n",
       "    <tr>\n",
       "      <th>147</th>\n",
       "      <td>1501</td>\n",
       "      <td>5</td>\n",
       "      <td>office</td>\n",
       "      <td>1.025</td>\n",
       "      <td>test</td>\n",
       "      <td>715.292</td>\n",
       "      <td>1</td>\n",
       "    </tr>\n",
       "    <tr>\n",
       "      <th>148</th>\n",
       "      <td>1501</td>\n",
       "      <td>12</td>\n",
       "      <td>book</td>\n",
       "      <td>0.975</td>\n",
       "      <td>test</td>\n",
       "      <td>717.400</td>\n",
       "      <td>1</td>\n",
       "    </tr>\n",
       "    <tr>\n",
       "      <th>149</th>\n",
       "      <td>1501</td>\n",
       "      <td>16</td>\n",
       "      <td>work</td>\n",
       "      <td>1.042</td>\n",
       "      <td>test</td>\n",
       "      <td>719.503</td>\n",
       "      <td>1</td>\n",
       "    </tr>\n",
       "    <tr>\n",
       "      <th>150</th>\n",
       "      <td>1501</td>\n",
       "      <td>21</td>\n",
       "      <td>color</td>\n",
       "      <td>1.024</td>\n",
       "      <td>test</td>\n",
       "      <td>721.706</td>\n",
       "      <td>1</td>\n",
       "    </tr>\n",
       "  </tbody>\n",
       "</table>\n",
       "<p>151 rows × 7 columns</p>\n",
       "</div>"
      ]
     },
     "execution_count": 65,
     "metadata": {},
     "output_type": "execute_result"
    }
   ],
   "execution_count": 65
  },
  {
   "metadata": {},
   "cell_type": "markdown",
   "source": "We first need to add two columns where the model will store its predictions",
   "id": "a397e10c4d647093"
  },
  {
   "metadata": {
    "ExecuteTime": {
     "end_time": "2025-10-03T05:58:27.670348Z",
     "start_time": "2025-10-03T05:58:27.667980Z"
    }
   },
   "cell_type": "code",
   "source": [
    "data['predicted_resp'] = \"\"\n",
    "data['predicted_rt'] = 0.0"
   ],
   "id": "72cd357170654d51",
   "outputs": [],
   "execution_count": 66
  },
  {
   "metadata": {},
   "cell_type": "markdown",
   "source": "The dataset is not quite ready for analysis yet. To run this analysis, we need to add a column that contains the correct response for each item. To do so, we first need to create a dictoriary of all the responses for each 'study' trial; these are the correct pair-associates.",
   "id": "3d5cad5b548d6d27"
  },
  {
   "metadata": {
    "ExecuteTime": {
     "end_time": "2025-10-03T05:58:27.736841Z",
     "start_time": "2025-10-03T05:58:27.732089Z"
    }
   },
   "cell_type": "code",
   "source": [
    "study = data[data['type'] == 'study']\n",
    "mappings = dict(zip(study.item, study.resp))\n",
    "mappings"
   ],
   "id": "5256f708281b85f6",
   "outputs": [
    {
     "data": {
      "text/plain": [
       "{3: 'fish',\n",
       " 12: 'book',\n",
       " 2: 'beer',\n",
       " 9: 'police',\n",
       " 22: 'fruit',\n",
       " 5: 'office',\n",
       " 14: 'voice',\n",
       " 23: 'pain',\n",
       " 8: 'music',\n",
       " 10: 'cloud',\n",
       " 18: 'friend',\n",
       " 11: 'chicken',\n",
       " 25: 'language',\n",
       " 15: 'thanks',\n",
       " 20: 'bike',\n",
       " 7: 'eye',\n",
       " 16: 'work',\n",
       " 19: 'wheel',\n",
       " 13: 'song',\n",
       " 4: 'pants',\n",
       " 21: 'color',\n",
       " 6: 'monkey',\n",
       " 24: 'shop',\n",
       " 1: 'enemy',\n",
       " 17: 'holidays'}"
      ]
     },
     "execution_count": 67,
     "metadata": {},
     "output_type": "execute_result"
    }
   ],
   "execution_count": 67
  },
  {
   "metadata": {},
   "cell_type": "markdown",
   "source": "Now we can add a new column, 'correct', that contains the correct response for each item presented, whether the participant responded correctly or not.",
   "id": "54bc43ae87e5d69a"
  },
  {
   "metadata": {
    "ExecuteTime": {
     "end_time": "2025-10-03T05:58:27.847850Z",
     "start_time": "2025-10-03T05:58:27.836364Z"
    }
   },
   "cell_type": "code",
   "source": [
    "data['correct'] = data['resp']\n",
    "for index, row in data.iterrows():\n",
    "    if row['type'] == \"test\":\n",
    "        data.at[index, 'correct'] = mappings[row['item']]\n",
    "    #elif row['type'] == \"study\":\n",
    "    #    data.at[index, 'RT'] = np.nan\n",
    "\n",
    "data"
   ],
   "id": "cefbcfaa2cc85ece",
   "outputs": [
    {
     "data": {
      "text/plain": [
       "     subj  item    resp     RT   type     time  acc predicted_resp  \\\n",
       "0    1501     3    fish  2.295  study    3.131    1                  \n",
       "1    1501     3    fish  0.888   test    5.426    1                  \n",
       "2    1501    12    book  3.128  study   10.248    1                  \n",
       "3    1501    12    book  0.841   test   12.776    1                  \n",
       "4    1501     2    beer  4.203  study   18.824    1                  \n",
       "..    ...   ...     ...    ...    ...      ...  ...            ...   \n",
       "146  1501    10   cloud  2.137   test  712.918    1                  \n",
       "147  1501     5  office  1.025   test  715.292    1                  \n",
       "148  1501    12    book  0.975   test  717.400    1                  \n",
       "149  1501    16    work  1.042   test  719.503    1                  \n",
       "150  1501    21   color  1.024   test  721.706    1                  \n",
       "\n",
       "     predicted_rt correct  \n",
       "0             0.0    fish  \n",
       "1             0.0    fish  \n",
       "2             0.0    book  \n",
       "3             0.0    book  \n",
       "4             0.0    beer  \n",
       "..            ...     ...  \n",
       "146           0.0   cloud  \n",
       "147           0.0  office  \n",
       "148           0.0    book  \n",
       "149           0.0    work  \n",
       "150           0.0   color  \n",
       "\n",
       "[151 rows x 10 columns]"
      ],
      "text/html": [
       "<div>\n",
       "<style scoped>\n",
       "    .dataframe tbody tr th:only-of-type {\n",
       "        vertical-align: middle;\n",
       "    }\n",
       "\n",
       "    .dataframe tbody tr th {\n",
       "        vertical-align: top;\n",
       "    }\n",
       "\n",
       "    .dataframe thead th {\n",
       "        text-align: right;\n",
       "    }\n",
       "</style>\n",
       "<table border=\"1\" class=\"dataframe\">\n",
       "  <thead>\n",
       "    <tr style=\"text-align: right;\">\n",
       "      <th></th>\n",
       "      <th>subj</th>\n",
       "      <th>item</th>\n",
       "      <th>resp</th>\n",
       "      <th>RT</th>\n",
       "      <th>type</th>\n",
       "      <th>time</th>\n",
       "      <th>acc</th>\n",
       "      <th>predicted_resp</th>\n",
       "      <th>predicted_rt</th>\n",
       "      <th>correct</th>\n",
       "    </tr>\n",
       "  </thead>\n",
       "  <tbody>\n",
       "    <tr>\n",
       "      <th>0</th>\n",
       "      <td>1501</td>\n",
       "      <td>3</td>\n",
       "      <td>fish</td>\n",
       "      <td>2.295</td>\n",
       "      <td>study</td>\n",
       "      <td>3.131</td>\n",
       "      <td>1</td>\n",
       "      <td></td>\n",
       "      <td>0.0</td>\n",
       "      <td>fish</td>\n",
       "    </tr>\n",
       "    <tr>\n",
       "      <th>1</th>\n",
       "      <td>1501</td>\n",
       "      <td>3</td>\n",
       "      <td>fish</td>\n",
       "      <td>0.888</td>\n",
       "      <td>test</td>\n",
       "      <td>5.426</td>\n",
       "      <td>1</td>\n",
       "      <td></td>\n",
       "      <td>0.0</td>\n",
       "      <td>fish</td>\n",
       "    </tr>\n",
       "    <tr>\n",
       "      <th>2</th>\n",
       "      <td>1501</td>\n",
       "      <td>12</td>\n",
       "      <td>book</td>\n",
       "      <td>3.128</td>\n",
       "      <td>study</td>\n",
       "      <td>10.248</td>\n",
       "      <td>1</td>\n",
       "      <td></td>\n",
       "      <td>0.0</td>\n",
       "      <td>book</td>\n",
       "    </tr>\n",
       "    <tr>\n",
       "      <th>3</th>\n",
       "      <td>1501</td>\n",
       "      <td>12</td>\n",
       "      <td>book</td>\n",
       "      <td>0.841</td>\n",
       "      <td>test</td>\n",
       "      <td>12.776</td>\n",
       "      <td>1</td>\n",
       "      <td></td>\n",
       "      <td>0.0</td>\n",
       "      <td>book</td>\n",
       "    </tr>\n",
       "    <tr>\n",
       "      <th>4</th>\n",
       "      <td>1501</td>\n",
       "      <td>2</td>\n",
       "      <td>beer</td>\n",
       "      <td>4.203</td>\n",
       "      <td>study</td>\n",
       "      <td>18.824</td>\n",
       "      <td>1</td>\n",
       "      <td></td>\n",
       "      <td>0.0</td>\n",
       "      <td>beer</td>\n",
       "    </tr>\n",
       "    <tr>\n",
       "      <th>...</th>\n",
       "      <td>...</td>\n",
       "      <td>...</td>\n",
       "      <td>...</td>\n",
       "      <td>...</td>\n",
       "      <td>...</td>\n",
       "      <td>...</td>\n",
       "      <td>...</td>\n",
       "      <td>...</td>\n",
       "      <td>...</td>\n",
       "      <td>...</td>\n",
       "    </tr>\n",
       "    <tr>\n",
       "      <th>146</th>\n",
       "      <td>1501</td>\n",
       "      <td>10</td>\n",
       "      <td>cloud</td>\n",
       "      <td>2.137</td>\n",
       "      <td>test</td>\n",
       "      <td>712.918</td>\n",
       "      <td>1</td>\n",
       "      <td></td>\n",
       "      <td>0.0</td>\n",
       "      <td>cloud</td>\n",
       "    </tr>\n",
       "    <tr>\n",
       "      <th>147</th>\n",
       "      <td>1501</td>\n",
       "      <td>5</td>\n",
       "      <td>office</td>\n",
       "      <td>1.025</td>\n",
       "      <td>test</td>\n",
       "      <td>715.292</td>\n",
       "      <td>1</td>\n",
       "      <td></td>\n",
       "      <td>0.0</td>\n",
       "      <td>office</td>\n",
       "    </tr>\n",
       "    <tr>\n",
       "      <th>148</th>\n",
       "      <td>1501</td>\n",
       "      <td>12</td>\n",
       "      <td>book</td>\n",
       "      <td>0.975</td>\n",
       "      <td>test</td>\n",
       "      <td>717.400</td>\n",
       "      <td>1</td>\n",
       "      <td></td>\n",
       "      <td>0.0</td>\n",
       "      <td>book</td>\n",
       "    </tr>\n",
       "    <tr>\n",
       "      <th>149</th>\n",
       "      <td>1501</td>\n",
       "      <td>16</td>\n",
       "      <td>work</td>\n",
       "      <td>1.042</td>\n",
       "      <td>test</td>\n",
       "      <td>719.503</td>\n",
       "      <td>1</td>\n",
       "      <td></td>\n",
       "      <td>0.0</td>\n",
       "      <td>work</td>\n",
       "    </tr>\n",
       "    <tr>\n",
       "      <th>150</th>\n",
       "      <td>1501</td>\n",
       "      <td>21</td>\n",
       "      <td>color</td>\n",
       "      <td>1.024</td>\n",
       "      <td>test</td>\n",
       "      <td>721.706</td>\n",
       "      <td>1</td>\n",
       "      <td></td>\n",
       "      <td>0.0</td>\n",
       "      <td>color</td>\n",
       "    </tr>\n",
       "  </tbody>\n",
       "</table>\n",
       "<p>151 rows × 10 columns</p>\n",
       "</div>"
      ]
     },
     "execution_count": 68,
     "metadata": {},
     "output_type": "execute_result"
    }
   ],
   "execution_count": 68
  },
  {
   "cell_type": "markdown",
   "id": "25eb5641-9a43-42ad-b2eb-29e974be790d",
   "metadata": {},
   "source": [
    "This is an alteration of \"study\" and \"test\" trials. \n",
    "\n",
    "### Creating a model\n",
    "\n",
    "To fit the data, we need to create a simple model. Fitting the data means that the model is run trial by trial to maximize the probability of responding exactly like the participant.\n",
    "\n",
    "To do so, we need to create a `DataModel`, which is a generic name for a model simulates behavior or performance \"tracing\"."
   ]
  },
  {
   "cell_type": "code",
   "id": "e06247d2-c304-4b79-ad3e-677bd2ff7f0d",
   "metadata": {
    "ExecuteTime": {
     "end_time": "2025-10-03T05:58:28.027317Z",
     "start_time": "2025-10-03T05:58:28.021472Z"
    }
   },
   "source": [
    "reload(actrme.models.model)\n",
    "model = actrme.models.model.DataModel(data)\n",
    "model"
   ],
   "outputs": [
    {
     "name": "stdout",
     "output_type": "stream",
     "text": [
      "<(..Num) 'time'=0>\n"
     ]
    },
    {
     "data": {
      "text/plain": [
       "<actrme.model.DataModel at 0x16b410e50>"
      ]
     },
     "execution_count": 69,
     "metadata": {},
     "output_type": "execute_result"
    }
   ],
   "execution_count": 69
  },
  {
   "cell_type": "markdown",
   "id": "cf85605f-f090-4645-8248-f7e41aad226b",
   "metadata": {},
   "source": [
    "Now, we have not yet specified how the model works. In this example, we will create a simple model that does only one thing: encodes things on study trials, and attempts to retrieve them on test trials. To do so, we need to add a new cognitive function to the model, Declarative Memory. "
   ]
  },
  {
   "cell_type": "code",
   "id": "1f13c9b7-f7c0-483a-91af-75a7688f914c",
   "metadata": {
    "ExecuteTime": {
     "end_time": "2025-10-03T05:58:28.084354Z",
     "start_time": "2025-10-03T05:58:28.074866Z"
    }
   },
   "source": [
    "reload(actrme.modules.declarative)\n",
    "dm = DeclarativeMemory()\n",
    "print(dm)\n",
    "model.add_module(dm)"
   ],
   "outputs": [
    {
     "name": "stdout",
     "output_type": "stream",
     "text": [
      "<(..Sym) 'encode'={}>\n",
      "<(..Sym) 'cue'={}>\n",
      "<GenericModule [module]>\n"
     ]
    }
   ],
   "execution_count": 70
  },
  {
   "metadata": {
    "ExecuteTime": {
     "end_time": "2025-10-03T05:58:28.151496Z",
     "start_time": "2025-10-03T05:58:28.148981Z"
    }
   },
   "cell_type": "code",
   "source": "print(model.outputs)",
   "id": "4cddcb971534975b",
   "outputs": [
    {
     "name": "stdout",
     "output_type": "stream",
     "text": [
      "[<(Num..) 'rt'=0>, <(Sym..) 'retrieval'={}>, <(Num..) 'retrieval time'=0>, <(Num..) 'retrieval probability'=0>]\n"
     ]
    }
   ],
   "execution_count": 71
  },
  {
   "metadata": {
    "ExecuteTime": {
     "end_time": "2025-10-03T05:58:28.419349Z",
     "start_time": "2025-10-03T05:58:28.417390Z"
    }
   },
   "cell_type": "code",
   "source": "print(model.inputs)",
   "id": "21f1a30035c89e65",
   "outputs": [
    {
     "name": "stdout",
     "output_type": "stream",
     "text": [
      "[<(..Num) 'time'=0>, <(..Sym) 'encode'={}>, <(..Sym) 'cue'={}>]\n"
     ]
    }
   ],
   "execution_count": 72
  },
  {
   "metadata": {
    "ExecuteTime": {
     "end_time": "2025-10-03T05:58:28.444869Z",
     "start_time": "2025-10-03T05:58:28.442647Z"
    }
   },
   "cell_type": "code",
   "source": [
    "model.connect_input(\"item\", model.get_input(\"encode\"))\n",
    "model.connect_input(\"time\", model.get_input(\"time\"))\n",
    "model.connect_input(\"resp\", model.get_input(\"encode\"))"
   ],
   "id": "67fa5ea2e1e486fd",
   "outputs": [],
   "execution_count": 73
  },
  {
   "metadata": {
    "ExecuteTime": {
     "end_time": "2025-10-03T05:58:28.461330Z",
     "start_time": "2025-10-03T05:58:28.459133Z"
    }
   },
   "cell_type": "code",
   "source": [
    "# We want to simply maximize the probability of a response\n",
    "\n",
    "model.connect_output(\"predicted_resp\", model.get_output(\"retrieval\"))"
   ],
   "id": "de089be435e2018c",
   "outputs": [],
   "execution_count": 74
  },
  {
   "cell_type": "code",
   "id": "f2ca7614-09e0-4ddd-9eb7-6146c59ec8d3",
   "metadata": {
    "ExecuteTime": {
     "end_time": "2025-10-03T05:58:31.501308Z",
     "start_time": "2025-10-03T05:58:29.834694Z"
    }
   },
   "source": [
    "# Now, run the model\n",
    "model.run()\n",
    "\n",
    "\n",
    "\n",
    "# Now fit:\n",
    "model.fit()\n"
   ],
   "outputs": [
    {
     "ename": "RecursionError",
     "evalue": "maximum recursion depth exceeded while calling a Python object",
     "output_type": "error",
     "traceback": [
      "\u001B[0;31m---------------------------------------------------------------------------\u001B[0m",
      "\u001B[0;31mRecursionError\u001B[0m                            Traceback (most recent call last)",
      "Cell \u001B[0;32mIn[75], line 2\u001B[0m\n\u001B[1;32m      1\u001B[0m \u001B[38;5;66;03m# Now, run the model\u001B[39;00m\n\u001B[0;32m----> 2\u001B[0m model\u001B[38;5;241m.\u001B[39mrun()\n\u001B[1;32m      6\u001B[0m \u001B[38;5;66;03m# Now fit:\u001B[39;00m\n\u001B[1;32m      7\u001B[0m model\u001B[38;5;241m.\u001B[39mfit()\n",
      "File \u001B[0;32m~/Documents/Research/ACTR-ME/actrme/model.py:156\u001B[0m, in \u001B[0;36mrun\u001B[0;34m(self)\u001B[0m\n\u001B[1;32m      0\u001B[0m <Error retrieving source code with stack_data see ipython/ipython#13598>\n",
      "File \u001B[0;32m~/Documents/Research/ACTR-ME/actrme/model.py:156\u001B[0m, in \u001B[0;36mrun\u001B[0;34m(self)\u001B[0m\n\u001B[1;32m      0\u001B[0m <Error retrieving source code with stack_data see ipython/ipython#13598>\n",
      "    \u001B[0;31m[... skipping similar frames: run at line 156 (2960 times)]\u001B[0m\n",
      "File \u001B[0;32m~/Documents/Research/ACTR-ME/actrme/model.py:156\u001B[0m, in \u001B[0;36mrun\u001B[0;34m(self)\u001B[0m\n\u001B[1;32m      0\u001B[0m <Error retrieving source code with stack_data see ipython/ipython#13598>\n",
      "File \u001B[0;32m~/Documents/Research/ACTR-ME/actrme/model.py:144\u001B[0m, in \u001B[0;36mrun\u001B[0;34m(self)\u001B[0m\n\u001B[1;32m    142\u001B[0m \u001B[38;5;28;01massert\u001B[39;00m \u001B[38;5;28misinstance\u001B[39m(column, \u001B[38;5;28mstr\u001B[39m)\n\u001B[1;32m    143\u001B[0m \u001B[38;5;28;01massert\u001B[39;00m \u001B[38;5;28misinstance\u001B[39m(extract, \u001B[38;5;28mstr\u001B[39m)\n\u001B[0;32m--> 144\u001B[0m \u001B[38;5;28;01mif\u001B[39;00m \u001B[38;5;28misinstance\u001B[39m(actrio, basic\u001B[38;5;241m.\u001B[39mSymbolicIO):\n\u001B[1;32m    145\u001B[0m     row\u001B[38;5;241m.\u001B[39mat[index, column] \u001B[38;5;241m=\u001B[39m actrio\u001B[38;5;241m.\u001B[39mvalue[extract]\n\u001B[1;32m    146\u001B[0m \u001B[38;5;28;01melif\u001B[39;00m \u001B[38;5;28misinstance\u001B[39m(column, basic\u001B[38;5;241m.\u001B[39mNumericIO):\n",
      "File \u001B[0;32m/opt/anaconda3/lib/python3.11/site-packages/pandas/core/frame.py:1554\u001B[0m, in \u001B[0;36mDataFrame.iterrows\u001B[0;34m(self)\u001B[0m\n\u001B[1;32m   1552\u001B[0m using_cow \u001B[38;5;241m=\u001B[39m using_copy_on_write()\n\u001B[1;32m   1553\u001B[0m \u001B[38;5;28;01mfor\u001B[39;00m k, v \u001B[38;5;129;01min\u001B[39;00m \u001B[38;5;28mzip\u001B[39m(\u001B[38;5;28mself\u001B[39m\u001B[38;5;241m.\u001B[39mindex, \u001B[38;5;28mself\u001B[39m\u001B[38;5;241m.\u001B[39mvalues):\n\u001B[0;32m-> 1554\u001B[0m     s \u001B[38;5;241m=\u001B[39m klass(v, index\u001B[38;5;241m=\u001B[39mcolumns, name\u001B[38;5;241m=\u001B[39mk)\u001B[38;5;241m.\u001B[39m__finalize__(\u001B[38;5;28mself\u001B[39m)\n\u001B[1;32m   1555\u001B[0m     \u001B[38;5;28;01mif\u001B[39;00m using_cow \u001B[38;5;129;01mand\u001B[39;00m \u001B[38;5;28mself\u001B[39m\u001B[38;5;241m.\u001B[39m_mgr\u001B[38;5;241m.\u001B[39mis_single_block:\n\u001B[1;32m   1556\u001B[0m         s\u001B[38;5;241m.\u001B[39m_mgr\u001B[38;5;241m.\u001B[39madd_references(\u001B[38;5;28mself\u001B[39m\u001B[38;5;241m.\u001B[39m_mgr)  \u001B[38;5;66;03m# type: ignore[arg-type]\u001B[39;00m\n",
      "File \u001B[0;32m/opt/anaconda3/lib/python3.11/site-packages/pandas/core/series.py:593\u001B[0m, in \u001B[0;36mSeries.__init__\u001B[0;34m(self, data, index, dtype, name, copy, fastpath)\u001B[0m\n\u001B[1;32m    590\u001B[0m         data \u001B[38;5;241m=\u001B[39m SingleArrayManager\u001B[38;5;241m.\u001B[39mfrom_array(data, index)\n\u001B[1;32m    592\u001B[0m NDFrame\u001B[38;5;241m.\u001B[39m\u001B[38;5;21m__init__\u001B[39m(\u001B[38;5;28mself\u001B[39m, data)\n\u001B[0;32m--> 593\u001B[0m \u001B[38;5;28mself\u001B[39m\u001B[38;5;241m.\u001B[39mname \u001B[38;5;241m=\u001B[39m name\n\u001B[1;32m    594\u001B[0m \u001B[38;5;28mself\u001B[39m\u001B[38;5;241m.\u001B[39m_set_axis(\u001B[38;5;241m0\u001B[39m, index)\n\u001B[1;32m    596\u001B[0m \u001B[38;5;28;01mif\u001B[39;00m original_dtype \u001B[38;5;129;01mis\u001B[39;00m \u001B[38;5;28;01mNone\u001B[39;00m \u001B[38;5;129;01mand\u001B[39;00m is_pandas_object \u001B[38;5;129;01mand\u001B[39;00m data_dtype \u001B[38;5;241m==\u001B[39m np\u001B[38;5;241m.\u001B[39mobject_:\n",
      "File \u001B[0;32m/opt/anaconda3/lib/python3.11/site-packages/pandas/core/generic.py:6320\u001B[0m, in \u001B[0;36mNDFrame.__setattr__\u001B[0;34m(self, name, value)\u001B[0m\n\u001B[1;32m   6317\u001B[0m \u001B[38;5;66;03m# if this fails, go on to more involved attribute setting\u001B[39;00m\n\u001B[1;32m   6318\u001B[0m \u001B[38;5;66;03m# (note that this matches __getattr__, above).\u001B[39;00m\n\u001B[1;32m   6319\u001B[0m \u001B[38;5;28;01mif\u001B[39;00m name \u001B[38;5;129;01min\u001B[39;00m \u001B[38;5;28mself\u001B[39m\u001B[38;5;241m.\u001B[39m_internal_names_set:\n\u001B[0;32m-> 6320\u001B[0m     \u001B[38;5;28mobject\u001B[39m\u001B[38;5;241m.\u001B[39m\u001B[38;5;21m__setattr__\u001B[39m(\u001B[38;5;28mself\u001B[39m, name, value)\n\u001B[1;32m   6321\u001B[0m \u001B[38;5;28;01melif\u001B[39;00m name \u001B[38;5;129;01min\u001B[39;00m \u001B[38;5;28mself\u001B[39m\u001B[38;5;241m.\u001B[39m_metadata:\n\u001B[1;32m   6322\u001B[0m     \u001B[38;5;28mobject\u001B[39m\u001B[38;5;241m.\u001B[39m\u001B[38;5;21m__setattr__\u001B[39m(\u001B[38;5;28mself\u001B[39m, name, value)\n",
      "File \u001B[0;32m/opt/anaconda3/lib/python3.11/site-packages/pandas/core/series.py:786\u001B[0m, in \u001B[0;36mSeries.name\u001B[0;34m(self, value)\u001B[0m\n\u001B[1;32m    784\u001B[0m \u001B[38;5;129m@name\u001B[39m\u001B[38;5;241m.\u001B[39msetter\n\u001B[1;32m    785\u001B[0m \u001B[38;5;28;01mdef\u001B[39;00m \u001B[38;5;21mname\u001B[39m(\u001B[38;5;28mself\u001B[39m, value: Hashable) \u001B[38;5;241m-\u001B[39m\u001B[38;5;241m>\u001B[39m \u001B[38;5;28;01mNone\u001B[39;00m:\n\u001B[0;32m--> 786\u001B[0m     validate_all_hashable(value, error_name\u001B[38;5;241m=\u001B[39m\u001B[38;5;124mf\u001B[39m\u001B[38;5;124m\"\u001B[39m\u001B[38;5;132;01m{\u001B[39;00m\u001B[38;5;28mtype\u001B[39m(\u001B[38;5;28mself\u001B[39m)\u001B[38;5;241m.\u001B[39m\u001B[38;5;18m__name__\u001B[39m\u001B[38;5;132;01m}\u001B[39;00m\u001B[38;5;124m.name\u001B[39m\u001B[38;5;124m\"\u001B[39m)\n\u001B[1;32m    787\u001B[0m     \u001B[38;5;28mobject\u001B[39m\u001B[38;5;241m.\u001B[39m\u001B[38;5;21m__setattr__\u001B[39m(\u001B[38;5;28mself\u001B[39m, \u001B[38;5;124m\"\u001B[39m\u001B[38;5;124m_name\u001B[39m\u001B[38;5;124m\"\u001B[39m, value)\n",
      "File \u001B[0;32m/opt/anaconda3/lib/python3.11/site-packages/pandas/core/dtypes/common.py:1590\u001B[0m, in \u001B[0;36mvalidate_all_hashable\u001B[0;34m(error_name, *args)\u001B[0m\n\u001B[1;32m   1571\u001B[0m \u001B[38;5;28;01mdef\u001B[39;00m \u001B[38;5;21mvalidate_all_hashable\u001B[39m(\u001B[38;5;241m*\u001B[39margs, error_name: \u001B[38;5;28mstr\u001B[39m \u001B[38;5;241m|\u001B[39m \u001B[38;5;28;01mNone\u001B[39;00m \u001B[38;5;241m=\u001B[39m \u001B[38;5;28;01mNone\u001B[39;00m) \u001B[38;5;241m-\u001B[39m\u001B[38;5;241m>\u001B[39m \u001B[38;5;28;01mNone\u001B[39;00m:\n\u001B[1;32m   1572\u001B[0m \u001B[38;5;250m    \u001B[39m\u001B[38;5;124;03m\"\"\"\u001B[39;00m\n\u001B[1;32m   1573\u001B[0m \u001B[38;5;124;03m    Return None if all args are hashable, else raise a TypeError.\u001B[39;00m\n\u001B[1;32m   1574\u001B[0m \n\u001B[0;32m   (...)\u001B[0m\n\u001B[1;32m   1588\u001B[0m \u001B[38;5;124;03m    None\u001B[39;00m\n\u001B[1;32m   1589\u001B[0m \u001B[38;5;124;03m    \"\"\"\u001B[39;00m\n\u001B[0;32m-> 1590\u001B[0m     \u001B[38;5;28;01mif\u001B[39;00m \u001B[38;5;129;01mnot\u001B[39;00m \u001B[38;5;28mall\u001B[39m(is_hashable(arg) \u001B[38;5;28;01mfor\u001B[39;00m arg \u001B[38;5;129;01min\u001B[39;00m args):\n\u001B[1;32m   1591\u001B[0m         \u001B[38;5;28;01mif\u001B[39;00m error_name:\n\u001B[1;32m   1592\u001B[0m             \u001B[38;5;28;01mraise\u001B[39;00m \u001B[38;5;167;01mTypeError\u001B[39;00m(\u001B[38;5;124mf\u001B[39m\u001B[38;5;124m\"\u001B[39m\u001B[38;5;132;01m{\u001B[39;00merror_name\u001B[38;5;132;01m}\u001B[39;00m\u001B[38;5;124m must be a hashable type\u001B[39m\u001B[38;5;124m\"\u001B[39m)\n",
      "File \u001B[0;32m/opt/anaconda3/lib/python3.11/site-packages/pandas/core/dtypes/common.py:1590\u001B[0m, in \u001B[0;36m<genexpr>\u001B[0;34m(.0)\u001B[0m\n\u001B[1;32m   1571\u001B[0m \u001B[38;5;28;01mdef\u001B[39;00m \u001B[38;5;21mvalidate_all_hashable\u001B[39m(\u001B[38;5;241m*\u001B[39margs, error_name: \u001B[38;5;28mstr\u001B[39m \u001B[38;5;241m|\u001B[39m \u001B[38;5;28;01mNone\u001B[39;00m \u001B[38;5;241m=\u001B[39m \u001B[38;5;28;01mNone\u001B[39;00m) \u001B[38;5;241m-\u001B[39m\u001B[38;5;241m>\u001B[39m \u001B[38;5;28;01mNone\u001B[39;00m:\n\u001B[1;32m   1572\u001B[0m \u001B[38;5;250m    \u001B[39m\u001B[38;5;124;03m\"\"\"\u001B[39;00m\n\u001B[1;32m   1573\u001B[0m \u001B[38;5;124;03m    Return None if all args are hashable, else raise a TypeError.\u001B[39;00m\n\u001B[1;32m   1574\u001B[0m \n\u001B[0;32m   (...)\u001B[0m\n\u001B[1;32m   1588\u001B[0m \u001B[38;5;124;03m    None\u001B[39;00m\n\u001B[1;32m   1589\u001B[0m \u001B[38;5;124;03m    \"\"\"\u001B[39;00m\n\u001B[0;32m-> 1590\u001B[0m     \u001B[38;5;28;01mif\u001B[39;00m \u001B[38;5;129;01mnot\u001B[39;00m \u001B[38;5;28mall\u001B[39m(is_hashable(arg) \u001B[38;5;28;01mfor\u001B[39;00m arg \u001B[38;5;129;01min\u001B[39;00m args):\n\u001B[1;32m   1591\u001B[0m         \u001B[38;5;28;01mif\u001B[39;00m error_name:\n\u001B[1;32m   1592\u001B[0m             \u001B[38;5;28;01mraise\u001B[39;00m \u001B[38;5;167;01mTypeError\u001B[39;00m(\u001B[38;5;124mf\u001B[39m\u001B[38;5;124m\"\u001B[39m\u001B[38;5;132;01m{\u001B[39;00merror_name\u001B[38;5;132;01m}\u001B[39;00m\u001B[38;5;124m must be a hashable type\u001B[39m\u001B[38;5;124m\"\u001B[39m)\n",
      "File \u001B[0;32m/opt/anaconda3/lib/python3.11/site-packages/pandas/core/dtypes/inference.py:366\u001B[0m, in \u001B[0;36mis_hashable\u001B[0;34m(obj)\u001B[0m\n\u001B[1;32m    358\u001B[0m \u001B[38;5;66;03m# Unfortunately, we can't use isinstance(obj, collections.abc.Hashable),\u001B[39;00m\n\u001B[1;32m    359\u001B[0m \u001B[38;5;66;03m# which can be faster than calling hash. That is because numpy scalars\u001B[39;00m\n\u001B[1;32m    360\u001B[0m \u001B[38;5;66;03m# fail this test.\u001B[39;00m\n\u001B[1;32m    361\u001B[0m \n\u001B[1;32m    362\u001B[0m \u001B[38;5;66;03m# Reconsider this decision once this numpy bug is fixed:\u001B[39;00m\n\u001B[1;32m    363\u001B[0m \u001B[38;5;66;03m# https://github.com/numpy/numpy/issues/5562\u001B[39;00m\n\u001B[1;32m    365\u001B[0m \u001B[38;5;28;01mtry\u001B[39;00m:\n\u001B[0;32m--> 366\u001B[0m     \u001B[38;5;28mhash\u001B[39m(obj)\n\u001B[1;32m    367\u001B[0m \u001B[38;5;28;01mexcept\u001B[39;00m \u001B[38;5;167;01mTypeError\u001B[39;00m:\n\u001B[1;32m    368\u001B[0m     \u001B[38;5;28;01mreturn\u001B[39;00m \u001B[38;5;28;01mFalse\u001B[39;00m\n",
      "\u001B[0;31mRecursionError\u001B[0m: maximum recursion depth exceeded while calling a Python object"
     ]
    }
   ],
   "execution_count": 75
  },
  {
   "metadata": {
    "ExecuteTime": {
     "end_time": "2025-10-03T05:59:29.874933Z",
     "start_time": "2025-10-03T05:59:29.857911Z"
    }
   },
   "cell_type": "code",
   "source": "data",
   "id": "5e82c9c70fad4afa",
   "outputs": [
    {
     "data": {
      "text/plain": [
       "     subj  item    resp     RT   type     time  acc predicted_resp  \\\n",
       "0    1501     3    fish  2.295  study    3.131    1                  \n",
       "1    1501     3    fish  0.888   test    5.426    1                  \n",
       "2    1501    12    book  3.128  study   10.248    1                  \n",
       "3    1501    12    book  0.841   test   12.776    1                  \n",
       "4    1501     2    beer  4.203  study   18.824    1                  \n",
       "..    ...   ...     ...    ...    ...      ...  ...            ...   \n",
       "146  1501    10   cloud  2.137   test  712.918    1                  \n",
       "147  1501     5  office  1.025   test  715.292    1                  \n",
       "148  1501    12    book  0.975   test  717.400    1                  \n",
       "149  1501    16    work  1.042   test  719.503    1                  \n",
       "150  1501    21   color  1.024   test  721.706    1                  \n",
       "\n",
       "     predicted_rt correct  \n",
       "0             0.0    fish  \n",
       "1             0.0    fish  \n",
       "2             0.0    book  \n",
       "3             0.0    book  \n",
       "4             0.0    beer  \n",
       "..            ...     ...  \n",
       "146           0.0   cloud  \n",
       "147           0.0  office  \n",
       "148           0.0    book  \n",
       "149           0.0    work  \n",
       "150           0.0   color  \n",
       "\n",
       "[151 rows x 10 columns]"
      ],
      "text/html": [
       "<div>\n",
       "<style scoped>\n",
       "    .dataframe tbody tr th:only-of-type {\n",
       "        vertical-align: middle;\n",
       "    }\n",
       "\n",
       "    .dataframe tbody tr th {\n",
       "        vertical-align: top;\n",
       "    }\n",
       "\n",
       "    .dataframe thead th {\n",
       "        text-align: right;\n",
       "    }\n",
       "</style>\n",
       "<table border=\"1\" class=\"dataframe\">\n",
       "  <thead>\n",
       "    <tr style=\"text-align: right;\">\n",
       "      <th></th>\n",
       "      <th>subj</th>\n",
       "      <th>item</th>\n",
       "      <th>resp</th>\n",
       "      <th>RT</th>\n",
       "      <th>type</th>\n",
       "      <th>time</th>\n",
       "      <th>acc</th>\n",
       "      <th>predicted_resp</th>\n",
       "      <th>predicted_rt</th>\n",
       "      <th>correct</th>\n",
       "    </tr>\n",
       "  </thead>\n",
       "  <tbody>\n",
       "    <tr>\n",
       "      <th>0</th>\n",
       "      <td>1501</td>\n",
       "      <td>3</td>\n",
       "      <td>fish</td>\n",
       "      <td>2.295</td>\n",
       "      <td>study</td>\n",
       "      <td>3.131</td>\n",
       "      <td>1</td>\n",
       "      <td></td>\n",
       "      <td>0.0</td>\n",
       "      <td>fish</td>\n",
       "    </tr>\n",
       "    <tr>\n",
       "      <th>1</th>\n",
       "      <td>1501</td>\n",
       "      <td>3</td>\n",
       "      <td>fish</td>\n",
       "      <td>0.888</td>\n",
       "      <td>test</td>\n",
       "      <td>5.426</td>\n",
       "      <td>1</td>\n",
       "      <td></td>\n",
       "      <td>0.0</td>\n",
       "      <td>fish</td>\n",
       "    </tr>\n",
       "    <tr>\n",
       "      <th>2</th>\n",
       "      <td>1501</td>\n",
       "      <td>12</td>\n",
       "      <td>book</td>\n",
       "      <td>3.128</td>\n",
       "      <td>study</td>\n",
       "      <td>10.248</td>\n",
       "      <td>1</td>\n",
       "      <td></td>\n",
       "      <td>0.0</td>\n",
       "      <td>book</td>\n",
       "    </tr>\n",
       "    <tr>\n",
       "      <th>3</th>\n",
       "      <td>1501</td>\n",
       "      <td>12</td>\n",
       "      <td>book</td>\n",
       "      <td>0.841</td>\n",
       "      <td>test</td>\n",
       "      <td>12.776</td>\n",
       "      <td>1</td>\n",
       "      <td></td>\n",
       "      <td>0.0</td>\n",
       "      <td>book</td>\n",
       "    </tr>\n",
       "    <tr>\n",
       "      <th>4</th>\n",
       "      <td>1501</td>\n",
       "      <td>2</td>\n",
       "      <td>beer</td>\n",
       "      <td>4.203</td>\n",
       "      <td>study</td>\n",
       "      <td>18.824</td>\n",
       "      <td>1</td>\n",
       "      <td></td>\n",
       "      <td>0.0</td>\n",
       "      <td>beer</td>\n",
       "    </tr>\n",
       "    <tr>\n",
       "      <th>...</th>\n",
       "      <td>...</td>\n",
       "      <td>...</td>\n",
       "      <td>...</td>\n",
       "      <td>...</td>\n",
       "      <td>...</td>\n",
       "      <td>...</td>\n",
       "      <td>...</td>\n",
       "      <td>...</td>\n",
       "      <td>...</td>\n",
       "      <td>...</td>\n",
       "    </tr>\n",
       "    <tr>\n",
       "      <th>146</th>\n",
       "      <td>1501</td>\n",
       "      <td>10</td>\n",
       "      <td>cloud</td>\n",
       "      <td>2.137</td>\n",
       "      <td>test</td>\n",
       "      <td>712.918</td>\n",
       "      <td>1</td>\n",
       "      <td></td>\n",
       "      <td>0.0</td>\n",
       "      <td>cloud</td>\n",
       "    </tr>\n",
       "    <tr>\n",
       "      <th>147</th>\n",
       "      <td>1501</td>\n",
       "      <td>5</td>\n",
       "      <td>office</td>\n",
       "      <td>1.025</td>\n",
       "      <td>test</td>\n",
       "      <td>715.292</td>\n",
       "      <td>1</td>\n",
       "      <td></td>\n",
       "      <td>0.0</td>\n",
       "      <td>office</td>\n",
       "    </tr>\n",
       "    <tr>\n",
       "      <th>148</th>\n",
       "      <td>1501</td>\n",
       "      <td>12</td>\n",
       "      <td>book</td>\n",
       "      <td>0.975</td>\n",
       "      <td>test</td>\n",
       "      <td>717.400</td>\n",
       "      <td>1</td>\n",
       "      <td></td>\n",
       "      <td>0.0</td>\n",
       "      <td>book</td>\n",
       "    </tr>\n",
       "    <tr>\n",
       "      <th>149</th>\n",
       "      <td>1501</td>\n",
       "      <td>16</td>\n",
       "      <td>work</td>\n",
       "      <td>1.042</td>\n",
       "      <td>test</td>\n",
       "      <td>719.503</td>\n",
       "      <td>1</td>\n",
       "      <td></td>\n",
       "      <td>0.0</td>\n",
       "      <td>work</td>\n",
       "    </tr>\n",
       "    <tr>\n",
       "      <th>150</th>\n",
       "      <td>1501</td>\n",
       "      <td>21</td>\n",
       "      <td>color</td>\n",
       "      <td>1.024</td>\n",
       "      <td>test</td>\n",
       "      <td>721.706</td>\n",
       "      <td>1</td>\n",
       "      <td></td>\n",
       "      <td>0.0</td>\n",
       "      <td>color</td>\n",
       "    </tr>\n",
       "  </tbody>\n",
       "</table>\n",
       "<p>151 rows × 10 columns</p>\n",
       "</div>"
      ]
     },
     "execution_count": 76,
     "metadata": {},
     "output_type": "execute_result"
    }
   ],
   "execution_count": 76
  },
  {
   "metadata": {},
   "cell_type": "code",
   "outputs": [],
   "execution_count": null,
   "source": "",
   "id": "3722455f4292ef3f"
  }
 ],
 "metadata": {
  "kernelspec": {
   "display_name": "Python [conda env:base] *",
   "language": "python",
   "name": "conda-base-py"
  },
  "language_info": {
   "codemirror_mode": {
    "name": "ipython",
    "version": 3
   },
   "file_extension": ".py",
   "mimetype": "text/x-python",
   "name": "python",
   "nbconvert_exporter": "python",
   "pygments_lexer": "ipython3",
   "version": "3.11.7"
  }
 },
 "nbformat": 4,
 "nbformat_minor": 5
}
