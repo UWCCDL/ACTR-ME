{
 "cells": [
  {
   "cell_type": "markdown",
   "id": "0b8be2aa-1813-45a9-8b22-f104aa9772d4",
   "metadata": {},
   "source": [
    "Hypothetical interaction"
   ]
  },
  {
   "cell_type": "code",
   "id": "0b606b69-6454-4ec0-9579-899be09fecfc",
   "metadata": {
    "ExecuteTime": {
     "end_time": "2025-09-29T22:37:35.397348Z",
     "start_time": "2025-09-29T22:37:35.393677Z"
    }
   },
   "source": [
    "from importlib import reload\n",
    "import numpy as np\n",
    "from matplotlib import pyplot as plt\n",
    "import actrme\n",
    "import pandas as pd\n",
    "import modules.module\n",
    "import modules.declarative as dm\n",
    "import pandas as pd\n"
   ],
   "outputs": [],
   "execution_count": 15
  },
  {
   "cell_type": "markdown",
   "id": "79f0df63-de5b-4d5b-94bb-83f1bd7246bd",
   "metadata": {},
   "source": [
    "# Sandbox"
   ]
  },
  {
   "cell_type": "code",
   "id": "92d75b33-d3c7-4f33-a50b-62a17826aa34",
   "metadata": {
    "ExecuteTime": {
     "end_time": "2025-09-29T21:53:32.504029Z",
     "start_time": "2025-09-29T21:53:32.454089Z"
    }
   },
   "source": [
    "reload(modules.module)"
   ],
   "outputs": [
    {
     "ename": "ImportError",
     "evalue": "attempted relative import beyond top-level package",
     "output_type": "error",
     "traceback": [
      "\u001B[0;31m---------------------------------------------------------------------------\u001B[0m",
      "\u001B[0;31mImportError\u001B[0m                               Traceback (most recent call last)",
      "Cell \u001B[0;32mIn[36], line 1\u001B[0m\n\u001B[0;32m----> 1\u001B[0m reload(modules\u001B[38;5;241m.\u001B[39mmodule)\n",
      "File \u001B[0;32m/opt/anaconda3/lib/python3.11/importlib/__init__.py:169\u001B[0m, in \u001B[0;36mreload\u001B[0;34m(module)\u001B[0m\n\u001B[1;32m    167\u001B[0m \u001B[38;5;28;01mif\u001B[39;00m spec \u001B[38;5;129;01mis\u001B[39;00m \u001B[38;5;28;01mNone\u001B[39;00m:\n\u001B[1;32m    168\u001B[0m     \u001B[38;5;28;01mraise\u001B[39;00m \u001B[38;5;167;01mModuleNotFoundError\u001B[39;00m(\u001B[38;5;124mf\u001B[39m\u001B[38;5;124m\"\u001B[39m\u001B[38;5;124mspec not found for the module \u001B[39m\u001B[38;5;132;01m{\u001B[39;00mname\u001B[38;5;132;01m!r}\u001B[39;00m\u001B[38;5;124m\"\u001B[39m, name\u001B[38;5;241m=\u001B[39mname)\n\u001B[0;32m--> 169\u001B[0m _bootstrap\u001B[38;5;241m.\u001B[39m_exec(spec, module)\n\u001B[1;32m    170\u001B[0m \u001B[38;5;66;03m# The module may have replaced itself in sys.modules!\u001B[39;00m\n\u001B[1;32m    171\u001B[0m \u001B[38;5;28;01mreturn\u001B[39;00m sys\u001B[38;5;241m.\u001B[39mmodules[name]\n",
      "File \u001B[0;32m<frozen importlib._bootstrap>:621\u001B[0m, in \u001B[0;36m_exec\u001B[0;34m(spec, module)\u001B[0m\n",
      "File \u001B[0;32m<frozen importlib._bootstrap_external>:940\u001B[0m, in \u001B[0;36mexec_module\u001B[0;34m(self, module)\u001B[0m\n",
      "File \u001B[0;32m<frozen importlib._bootstrap>:241\u001B[0m, in \u001B[0;36m_call_with_frames_removed\u001B[0;34m(f, *args, **kwds)\u001B[0m\n",
      "File \u001B[0;32m~/Documents/Research/ACTR-ME/modules/module.py:3\u001B[0m\n\u001B[1;32m      1\u001B[0m \u001B[38;5;66;03m## essential ACT-R modules: Declarative and Procedural memories\u001B[39;00m\n\u001B[0;32m----> 3\u001B[0m \u001B[38;5;28;01mimport\u001B[39;00m \u001B[38;5;21;01mpyactup\u001B[39;00m \u001B[38;5;28;01mas\u001B[39;00m \u001B[38;5;21;01mpya\u001B[39;00m\n\u001B[1;32m      5\u001B[0m \u001B[38;5;28;01mclass\u001B[39;00m \u001B[38;5;21;01mActrInput\u001B[39;00m():\n\u001B[1;32m      6\u001B[0m \u001B[38;5;250m    \u001B[39m\u001B[38;5;124;03m\"\"\"A generic input that is passed to the a model\"\"\"\u001B[39;00m\n",
      "\u001B[0;31mImportError\u001B[0m: attempted relative import beyond top-level package"
     ]
    }
   ],
   "execution_count": 36
  },
  {
   "cell_type": "code",
   "id": "dc80910e-efac-4d4d-b37f-44893a048c9d",
   "metadata": {
    "ExecuteTime": {
     "end_time": "2025-09-29T22:30:46.674285Z",
     "start_time": "2025-09-29T22:30:46.670557Z"
    }
   },
   "source": [
    "#reload(modules.module)\n",
    "o = modules.module.SymbolicInput(\"test\")\n",
    "print(o)\n",
    "o.value = dict(zero=\"ops\")\n",
    "o.value\n",
    "print(o)"
   ],
   "outputs": [
    {
     "name": "stdout",
     "output_type": "stream",
     "text": [
      "<[I] test = {}>\n",
      "<[I] test = {'zero': 'ops'}>\n"
     ]
    }
   ],
   "execution_count": 88
  },
  {
   "metadata": {
    "ExecuteTime": {
     "end_time": "2025-09-29T22:11:06.899711Z",
     "start_time": "2025-09-29T22:11:06.895440Z"
    }
   },
   "cell_type": "code",
   "source": [
    "o.modify(dict(uno=\"ops2\"))\n",
    "o.value"
   ],
   "id": "3cf895110af1ecd4",
   "outputs": [
    {
     "data": {
      "text/plain": [
       "{'zero': 'ops', 'uno': 'ops2'}"
      ]
     },
     "execution_count": 65,
     "metadata": {},
     "output_type": "execute_result"
    }
   ],
   "execution_count": 65
  },
  {
   "metadata": {
    "ExecuteTime": {
     "end_time": "2025-09-29T22:39:26.421683Z",
     "start_time": "2025-09-29T22:39:26.349762Z"
    }
   },
   "cell_type": "code",
   "source": [
    "from modules.declarative import Memory\n",
    "reload(modules.declarative)\n",
    "m = Memory(contents=dict(english=\"Fish\", swahili=\"Samaki\"))\n",
    "m.add_trace(time=3.5)\n",
    "x = np.arange(0.1, 10, 0.1)\n",
    "y = [m.activation(t) for t in x]\n",
    "plt.plot(x, y)"
   ],
   "id": "e077f3cf195a9674",
   "outputs": [
    {
     "data": {
      "text/plain": [
       "[<matplotlib.lines.Line2D at 0x308ec2190>]"
      ]
     },
     "execution_count": 19,
     "metadata": {},
     "output_type": "execute_result"
    },
    {
     "data": {
      "text/plain": [
       "<Figure size 640x480 with 1 Axes>"
      ],
      "image/png": "[encoded data removed]"
     },
     "metadata": {},
     "output_type": "display_data",
     "jetTransient": {
      "display_id": null
     }
    }
   ],
   "execution_count": 19
  },
  {
   "metadata": {
    "ExecuteTime": {
     "end_time": "2025-09-29T23:04:39.970756Z",
     "start_time": "2025-09-29T23:04:39.962929Z"
    }
   },
   "cell_type": "code",
   "source": [
    "from modules.declarative import DeclarativeMemory\n",
    "reload(modules.declarative)\n",
    "dm = DeclarativeMemory()\n",
    "dm.encode(contents=dict(english=\"Fish\", swahili=\"Samaki\"))\n",
    "dm.encode(contents=dict(english=\"Chair\", swahili=\"Kaliki\"))\n",
    "dm.time = 2.0\n",
    "dm.encode(contents=dict(english=\"Chair\", swahili=\"Kaliki\"))\n",
    "dm._memories"
   ],
   "id": "ee3e8f119d6cd6c6",
   "outputs": [
    {
     "data": {
      "text/plain": [
       "[<Memory [1] {'english': 'Fish', 'swahili': 'Samaki'}>,\n",
       " <Memory [2] {'english': 'Chair', 'swahili': 'Kaliki'}>]"
      ]
     },
     "execution_count": 50,
     "metadata": {},
     "output_type": "execute_result"
    }
   ],
   "execution_count": 50
  },
  {
   "metadata": {
    "ExecuteTime": {
     "end_time": "2025-09-29T23:04:41.780207Z",
     "start_time": "2025-09-29T23:04:41.776201Z"
    }
   },
   "cell_type": "code",
   "source": "dm.retrieve(dict(english=\"Fish\"))",
   "id": "b94bca2a40a8a3a9",
   "outputs": [
    {
     "data": {
      "text/plain": [
       "<Memory [1] {'english': 'Fish', 'swahili': 'Samaki'}>"
      ]
     },
     "execution_count": 51,
     "metadata": {},
     "output_type": "execute_result"
    }
   ],
   "execution_count": 51
  },
  {
   "cell_type": "markdown",
   "id": "0bf04914-6e15-4990-8682-bf6f1d998d94",
   "metadata": {},
   "source": [
    "# Examples\n",
    "\n",
    "Here is a list of examples.\n",
    "\n",
    "## 1. A Memory Experiment\n",
    "\n",
    "We will start with a memory experoiment. The experiment is taken from a paper by Xu et al. (2025), and the original data is available on OSF.\n",
    "\n",
    "The experiment used a retrieval practice procedure: Participants are presented with simple paired associates, e.g., a pair of Swahili-English words, such as \"samaki/fish\". Each pair is presented during a study trial, and then probed in a series of test trials."
   ]
  },
  {
   "cell_type": "code",
   "id": "5f31cec7-dfce-4b34-9cbf-c87f66769542",
   "metadata": {
    "ExecuteTime": {
     "end_time": "2025-09-29T23:06:34.232915Z",
     "start_time": "2025-09-29T23:06:34.173860Z"
    }
   },
   "source": [
    "data = pd.read_csv(\"data/memory_experiment.csv\")\n",
    "data"
   ],
   "outputs": [
    {
     "data": {
      "text/plain": [
       "     subj  item    resp     RT   type     time  acc\n",
       "0    1501     3    fish  2.295  study    3.131    1\n",
       "1    1501     3    fish  0.888   test    5.426    1\n",
       "2    1501    12    book  3.128  study   10.248    1\n",
       "3    1501    12    book  0.841   test   12.776    1\n",
       "4    1501     2    beer  4.203  study   18.824    1\n",
       "..    ...   ...     ...    ...    ...      ...  ...\n",
       "146  1501    10   cloud  2.137   test  712.918    1\n",
       "147  1501     5  office  1.025   test  715.292    1\n",
       "148  1501    12    book  0.975   test  717.400    1\n",
       "149  1501    16    work  1.042   test  719.503    1\n",
       "150  1501    21   color  1.024   test  721.706    1\n",
       "\n",
       "[151 rows x 7 columns]"
      ],
      "text/html": [
       "<div>\n",
       "<style scoped>\n",
       "    .dataframe tbody tr th:only-of-type {\n",
       "        vertical-align: middle;\n",
       "    }\n",
       "\n",
       "    .dataframe tbody tr th {\n",
       "        vertical-align: top;\n",
       "    }\n",
       "\n",
       "    .dataframe thead th {\n",
       "        text-align: right;\n",
       "    }\n",
       "</style>\n",
       "<table border=\"1\" class=\"dataframe\">\n",
       "  <thead>\n",
       "    <tr style=\"text-align: right;\">\n",
       "      <th></th>\n",
       "      <th>subj</th>\n",
       "      <th>item</th>\n",
       "      <th>resp</th>\n",
       "      <th>RT</th>\n",
       "      <th>type</th>\n",
       "      <th>time</th>\n",
       "      <th>acc</th>\n",
       "    </tr>\n",
       "  </thead>\n",
       "  <tbody>\n",
       "    <tr>\n",
       "      <th>0</th>\n",
       "      <td>1501</td>\n",
       "      <td>3</td>\n",
       "      <td>fish</td>\n",
       "      <td>2.295</td>\n",
       "      <td>study</td>\n",
       "      <td>3.131</td>\n",
       "      <td>1</td>\n",
       "    </tr>\n",
       "    <tr>\n",
       "      <th>1</th>\n",
       "      <td>1501</td>\n",
       "      <td>3</td>\n",
       "      <td>fish</td>\n",
       "      <td>0.888</td>\n",
       "      <td>test</td>\n",
       "      <td>5.426</td>\n",
       "      <td>1</td>\n",
       "    </tr>\n",
       "    <tr>\n",
       "      <th>2</th>\n",
       "      <td>1501</td>\n",
       "      <td>12</td>\n",
       "      <td>book</td>\n",
       "      <td>3.128</td>\n",
       "      <td>study</td>\n",
       "      <td>10.248</td>\n",
       "      <td>1</td>\n",
       "    </tr>\n",
       "    <tr>\n",
       "      <th>3</th>\n",
       "      <td>1501</td>\n",
       "      <td>12</td>\n",
       "      <td>book</td>\n",
       "      <td>0.841</td>\n",
       "      <td>test</td>\n",
       "      <td>12.776</td>\n",
       "      <td>1</td>\n",
       "    </tr>\n",
       "    <tr>\n",
       "      <th>4</th>\n",
       "      <td>1501</td>\n",
       "      <td>2</td>\n",
       "      <td>beer</td>\n",
       "      <td>4.203</td>\n",
       "      <td>study</td>\n",
       "      <td>18.824</td>\n",
       "      <td>1</td>\n",
       "    </tr>\n",
       "    <tr>\n",
       "      <th>...</th>\n",
       "      <td>...</td>\n",
       "      <td>...</td>\n",
       "      <td>...</td>\n",
       "      <td>...</td>\n",
       "      <td>...</td>\n",
       "      <td>...</td>\n",
       "      <td>...</td>\n",
       "    </tr>\n",
       "    <tr>\n",
       "      <th>146</th>\n",
       "      <td>1501</td>\n",
       "      <td>10</td>\n",
       "      <td>cloud</td>\n",
       "      <td>2.137</td>\n",
       "      <td>test</td>\n",
       "      <td>712.918</td>\n",
       "      <td>1</td>\n",
       "    </tr>\n",
       "    <tr>\n",
       "      <th>147</th>\n",
       "      <td>1501</td>\n",
       "      <td>5</td>\n",
       "      <td>office</td>\n",
       "      <td>1.025</td>\n",
       "      <td>test</td>\n",
       "      <td>715.292</td>\n",
       "      <td>1</td>\n",
       "    </tr>\n",
       "    <tr>\n",
       "      <th>148</th>\n",
       "      <td>1501</td>\n",
       "      <td>12</td>\n",
       "      <td>book</td>\n",
       "      <td>0.975</td>\n",
       "      <td>test</td>\n",
       "      <td>717.400</td>\n",
       "      <td>1</td>\n",
       "    </tr>\n",
       "    <tr>\n",
       "      <th>149</th>\n",
       "      <td>1501</td>\n",
       "      <td>16</td>\n",
       "      <td>work</td>\n",
       "      <td>1.042</td>\n",
       "      <td>test</td>\n",
       "      <td>719.503</td>\n",
       "      <td>1</td>\n",
       "    </tr>\n",
       "    <tr>\n",
       "      <th>150</th>\n",
       "      <td>1501</td>\n",
       "      <td>21</td>\n",
       "      <td>color</td>\n",
       "      <td>1.024</td>\n",
       "      <td>test</td>\n",
       "      <td>721.706</td>\n",
       "      <td>1</td>\n",
       "    </tr>\n",
       "  </tbody>\n",
       "</table>\n",
       "<p>151 rows × 7 columns</p>\n",
       "</div>"
      ]
     },
     "execution_count": 52,
     "metadata": {},
     "output_type": "execute_result"
    }
   ],
   "execution_count": 52
  },
  {
   "cell_type": "markdown",
   "id": "25eb5641-9a43-42ad-b2eb-29e974be790d",
   "metadata": {},
   "source": [
    "This is an alteration of \"study\" and \"test\" trials. \n",
    "\n",
    "### Creating a model\n",
    "\n",
    "To fit the data, we need to create a simple model. Fitting the data means that the model is run trial by trial to maximize the probability of responding exactly like the participant.\n",
    "\n",
    "To do so, we need to create a `DataModel`, which is a generic name for a model simulates behavior or performance \"tracing\"."
   ]
  },
  {
   "cell_type": "code",
   "execution_count": 155,
   "id": "e06247d2-c304-4b79-ad3e-677bd2ff7f0d",
   "metadata": {},
   "outputs": [
    {
     "data": {
      "text/plain": [
       "<actrme.DataModel at 0x305536090>"
      ]
     },
     "execution_count": 155,
     "metadata": {},
     "output_type": "execute_result"
    }
   ],
   "source": [
    "model = me.DataModel(data)\n",
    "model"
   ]
  },
  {
   "cell_type": "markdown",
   "id": "cf85605f-f090-4645-8248-f7e41aad226b",
   "metadata": {},
   "source": [
    "Now, we have not yet specified how the model works. In this example, we will create a simple model that does only one thing: encodes things on study trials, and attempts to retrieve them on test trials. To do so, we need to add a new cognitive function to the model, Declarative Memory. "
   ]
  },
  {
   "cell_type": "code",
   "execution_count": 172,
   "id": "1f13c9b7-f7c0-483a-91af-75a7688f914c",
   "metadata": {},
   "outputs": [],
   "source": [
    "dm = basic.DeclarativeMemory()\n",
    "model.add_module(dm)"
   ]
  },
  {
   "cell_type": "code",
   "execution_count": null,
   "id": "f2ca7614-09e0-4ddd-9eb7-6146c59ec8d3",
   "metadata": {},
   "outputs": [],
   "source": [
    "\n",
    "# DM has 3 inputs (encode, time, retrieve), so all of these inputs are \n",
    "# now part of the model's inputs.\n",
    "model.inputs()\n",
    "\n",
    "# This should return\n",
    "#    > model.inputs()\n",
    "#    > [\"encode\", \"time\", \"retrieve\"]\n",
    "# \n",
    "\n",
    "# DM has 2 outputs (response, rt), so all of these outputs are \n",
    "# now part of the model's outputs.\n",
    "model.outputs()\n",
    "\n",
    "# This should return\n",
    "#    > model.outputs()\n",
    "#    > [\"rt\", \"response\", \"response_probability\", \"rt_probability\"]\n",
    "# \n",
    "\n",
    "# Now, connect the model to the file\n",
    "\n",
    "model.connect_input(\"encode\", data.study)\n",
    "model.connect_input(\"time\", data.time)\n",
    "model.connect_input(\"retrieve\", data.cue)\n",
    "\n",
    "# We want to simply maximize the probability of a response\n",
    "\n",
    "model.connect_output(\"probability\", data.acc)\n",
    "\n",
    "# Now fit:\n",
    "model.fit()\n",
    "\n",
    "# now, this will go trial-by-trial over the probabilities\n",
    "for row in data:\n",
    "    if encode is not None:\n",
    "        dm.learn()"
   ]
  }
 ],
 "metadata": {
  "kernelspec": {
   "display_name": "Python [conda env:base] *",
   "language": "python",
   "name": "conda-base-py"
  },
  "language_info": {
   "codemirror_mode": {
    "name": "ipython",
    "version": 3
   },
   "file_extension": ".py",
   "mimetype": "text/x-python",
   "name": "python",
   "nbconvert_exporter": "python",
   "pygments_lexer": "ipython3",
   "version": "3.11.7"
  }
 },
 "nbformat": 4,
 "nbformat_minor": 5
}
