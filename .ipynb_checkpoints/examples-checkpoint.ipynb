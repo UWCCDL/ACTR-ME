{
 "cells": [
  {
   "cell_type": "markdown",
   "id": "0b8be2aa-1813-45a9-8b22-f104aa9772d4",
   "metadata": {},
   "source": [
    "Hypothetical interaction"
   ]
  },
  {
   "cell_type": "code",
   "execution_count": 142,
   "id": "0b606b69-6454-4ec0-9579-899be09fecfc",
   "metadata": {},
   "outputs": [],
   "source": [
    "\n",
    "from actrme.model import modules as basic, actrme as me\n",
    "import pandas as pd\n",
    "from importlib import reload"
   ]
  },
  {
   "cell_type": "code",
   "execution_count": 151,
   "id": "92d75b33-d3c7-4f33-a50b-62a17826aa34",
   "metadata": {},
   "outputs": [
    {
     "data": {
      "text/plain": [
       "<module 'modules.basic' from '/Users/andreastocco/Documents/Research/ACTR-ME/modules/basic.py'>"
      ]
     },
     "execution_count": 151,
     "metadata": {},
     "output_type": "execute_result"
    }
   ],
   "source": [
    "reload(basic)"
   ]
  },
  {
   "cell_type": "markdown",
   "id": "0bf04914-6e15-4990-8682-bf6f1d998d94",
   "metadata": {},
   "source": [
    "# Examples\n",
    "\n",
    "Here is a list of examples.\n",
    "\n",
    "## 1. A Memory Experiment\n",
    "\n",
    "We will start with a memory experoiment. The experiment is taken from a paper by Xu et al. (2025), and the original data is available on OSF.\n",
    "\n",
    "The experiment used a retrieval practice procedure: Participants are presented with simple paired associates, e.g., a pair of Swahili-English words, such as \"samaki/fish\". Each pair is presented during a study trial, and then probed in a series of test trials."
   ]
  },
  {
   "cell_type": "code",
   "execution_count": 153,
   "id": "5f31cec7-dfce-4b34-9cbf-c87f66769542",
   "metadata": {},
   "outputs": [
    {
     "data": {
      "text/html": [
       "<div>\n",
       "<style scoped>\n",
       "    .dataframe tbody tr th:only-of-type {\n",
       "        vertical-align: middle;\n",
       "    }\n",
       "\n",
       "    .dataframe tbody tr th {\n",
       "        vertical-align: top;\n",
       "    }\n",
       "\n",
       "    .dataframe thead th {\n",
       "        text-align: right;\n",
       "    }\n",
       "</style>\n",
       "<table border=\"1\" class=\"dataframe\">\n",
       "  <thead>\n",
       "    <tr style=\"text-align: right;\">\n",
       "      <th></th>\n",
       "      <th>subj</th>\n",
       "      <th>item</th>\n",
       "      <th>resp</th>\n",
       "      <th>RT</th>\n",
       "      <th>type</th>\n",
       "      <th>time</th>\n",
       "      <th>acc</th>\n",
       "    </tr>\n",
       "  </thead>\n",
       "  <tbody>\n",
       "    <tr>\n",
       "      <th>0</th>\n",
       "      <td>1501</td>\n",
       "      <td>3</td>\n",
       "      <td>fish</td>\n",
       "      <td>2.295</td>\n",
       "      <td>study</td>\n",
       "      <td>3.131</td>\n",
       "      <td>1</td>\n",
       "    </tr>\n",
       "    <tr>\n",
       "      <th>1</th>\n",
       "      <td>1501</td>\n",
       "      <td>3</td>\n",
       "      <td>fish</td>\n",
       "      <td>0.888</td>\n",
       "      <td>test</td>\n",
       "      <td>5.426</td>\n",
       "      <td>1</td>\n",
       "    </tr>\n",
       "    <tr>\n",
       "      <th>2</th>\n",
       "      <td>1501</td>\n",
       "      <td>12</td>\n",
       "      <td>book</td>\n",
       "      <td>3.128</td>\n",
       "      <td>study</td>\n",
       "      <td>10.248</td>\n",
       "      <td>1</td>\n",
       "    </tr>\n",
       "    <tr>\n",
       "      <th>3</th>\n",
       "      <td>1501</td>\n",
       "      <td>12</td>\n",
       "      <td>book</td>\n",
       "      <td>0.841</td>\n",
       "      <td>test</td>\n",
       "      <td>12.776</td>\n",
       "      <td>1</td>\n",
       "    </tr>\n",
       "    <tr>\n",
       "      <th>4</th>\n",
       "      <td>1501</td>\n",
       "      <td>2</td>\n",
       "      <td>beer</td>\n",
       "      <td>4.203</td>\n",
       "      <td>study</td>\n",
       "      <td>18.824</td>\n",
       "      <td>1</td>\n",
       "    </tr>\n",
       "    <tr>\n",
       "      <th>...</th>\n",
       "      <td>...</td>\n",
       "      <td>...</td>\n",
       "      <td>...</td>\n",
       "      <td>...</td>\n",
       "      <td>...</td>\n",
       "      <td>...</td>\n",
       "      <td>...</td>\n",
       "    </tr>\n",
       "    <tr>\n",
       "      <th>146</th>\n",
       "      <td>1501</td>\n",
       "      <td>10</td>\n",
       "      <td>cloud</td>\n",
       "      <td>2.137</td>\n",
       "      <td>test</td>\n",
       "      <td>712.918</td>\n",
       "      <td>1</td>\n",
       "    </tr>\n",
       "    <tr>\n",
       "      <th>147</th>\n",
       "      <td>1501</td>\n",
       "      <td>5</td>\n",
       "      <td>office</td>\n",
       "      <td>1.025</td>\n",
       "      <td>test</td>\n",
       "      <td>715.292</td>\n",
       "      <td>1</td>\n",
       "    </tr>\n",
       "    <tr>\n",
       "      <th>148</th>\n",
       "      <td>1501</td>\n",
       "      <td>12</td>\n",
       "      <td>book</td>\n",
       "      <td>0.975</td>\n",
       "      <td>test</td>\n",
       "      <td>717.400</td>\n",
       "      <td>1</td>\n",
       "    </tr>\n",
       "    <tr>\n",
       "      <th>149</th>\n",
       "      <td>1501</td>\n",
       "      <td>16</td>\n",
       "      <td>work</td>\n",
       "      <td>1.042</td>\n",
       "      <td>test</td>\n",
       "      <td>719.503</td>\n",
       "      <td>1</td>\n",
       "    </tr>\n",
       "    <tr>\n",
       "      <th>150</th>\n",
       "      <td>1501</td>\n",
       "      <td>21</td>\n",
       "      <td>color</td>\n",
       "      <td>1.024</td>\n",
       "      <td>test</td>\n",
       "      <td>721.706</td>\n",
       "      <td>1</td>\n",
       "    </tr>\n",
       "  </tbody>\n",
       "</table>\n",
       "<p>151 rows × 7 columns</p>\n",
       "</div>"
      ],
      "text/plain": [
       "     subj  item    resp     RT   type     time  acc\n",
       "0    1501     3    fish  2.295  study    3.131    1\n",
       "1    1501     3    fish  0.888   test    5.426    1\n",
       "2    1501    12    book  3.128  study   10.248    1\n",
       "3    1501    12    book  0.841   test   12.776    1\n",
       "4    1501     2    beer  4.203  study   18.824    1\n",
       "..    ...   ...     ...    ...    ...      ...  ...\n",
       "146  1501    10   cloud  2.137   test  712.918    1\n",
       "147  1501     5  office  1.025   test  715.292    1\n",
       "148  1501    12    book  0.975   test  717.400    1\n",
       "149  1501    16    work  1.042   test  719.503    1\n",
       "150  1501    21   color  1.024   test  721.706    1\n",
       "\n",
       "[151 rows x 7 columns]"
      ]
     },
     "execution_count": 153,
     "metadata": {},
     "output_type": "execute_result"
    }
   ],
   "source": [
    "data = pd.read_csv(\"data/memory_experiment.csv\")\n",
    "data"
   ]
  },
  {
   "cell_type": "markdown",
   "id": "25eb5641-9a43-42ad-b2eb-29e974be790d",
   "metadata": {},
   "source": [
    "This is an alteration of \"study\" and \"test\" trials. \n",
    "\n",
    "### Creating a model\n",
    "\n",
    "To fit the data, we need to create a simple model. Fitting the data means that the model is run trial by trial to maximize the probability of responding exactly like the participant.\n",
    "\n",
    "To do so, we need to create a `DataModel`, which is a generic name for a model simulates behavior or performance \"tracing\"."
   ]
  },
  {
   "cell_type": "code",
   "execution_count": 155,
   "id": "e06247d2-c304-4b79-ad3e-677bd2ff7f0d",
   "metadata": {},
   "outputs": [
    {
     "data": {
      "text/plain": [
       "<actrme.DataModel at 0x305536090>"
      ]
     },
     "execution_count": 155,
     "metadata": {},
     "output_type": "execute_result"
    }
   ],
   "source": [
    "model = me.DataModel(data)\n",
    "model"
   ]
  },
  {
   "cell_type": "markdown",
   "id": "cf85605f-f090-4645-8248-f7e41aad226b",
   "metadata": {},
   "source": [
    "Now, we have not yet specified how the model works. In this example, we will create a simple model that does only one thing: encodes things on study trials, and attempts to retrieve them on test trials. To do so, we need to add a new cognitive function to the model, Declarative Memory. "
   ]
  },
  {
   "cell_type": "code",
   "execution_count": 172,
   "id": "1f13c9b7-f7c0-483a-91af-75a7688f914c",
   "metadata": {},
   "outputs": [],
   "source": [
    "dm = basic.DeclarativeMemory()\n",
    "model.add_module(dm)"
   ]
  },
  {
   "cell_type": "code",
   "execution_count": null,
   "id": "f2ca7614-09e0-4ddd-9eb7-6146c59ec8d3",
   "metadata": {},
   "outputs": [],
   "source": [
    "\n",
    "# DM has 3 inputs (encode, time, retrieve), so all of these inputs are \n",
    "# now part of the model's inputs.\n",
    "model.inputs()\n",
    "\n",
    "# This should return\n",
    "#    > model.inputs()\n",
    "#    > [\"encode\", \"time\", \"retrieve\"]\n",
    "# \n",
    "\n",
    "# DM has 2 outputs (response, rt), so all of these outputs are \n",
    "# now part of the model's outputs.\n",
    "model.outputs()\n",
    "\n",
    "# This should return\n",
    "#    > model.outputs()\n",
    "#    > [\"rt\", \"response\", \"response_probability\", \"rt_probability\"]\n",
    "# \n",
    "\n",
    "# Now, connect the model to the file\n",
    "\n",
    "model.connect_input(\"encode\", data.study)\n",
    "model.connect_input(\"time\", data.time)\n",
    "model.connect_input(\"retrieve\", data.cue)\n",
    "\n",
    "# We want to simply maximize the probability of a response\n",
    "\n",
    "model.connect_output(\"probability\", data.acc)\n",
    "\n",
    "# Now fit:\n",
    "model.fit()\n",
    "\n",
    "# now, this will go trial-by-trial over the probabilities\n",
    "for row in data:\n",
    "    if encode is not None:\n",
    "        dm.learn()"
   ]
  }
 ],
 "metadata": {
  "kernelspec": {
   "display_name": "Python [conda env:base] *",
   "language": "python",
   "name": "conda-base-py"
  },
  "language_info": {
   "codemirror_mode": {
    "name": "ipython",
    "version": 3
   },
   "file_extension": ".py",
   "mimetype": "text/x-python",
   "name": "python",
   "nbconvert_exporter": "python",
   "pygments_lexer": "ipython3",
   "version": "3.11.7"
  }
 },
 "nbformat": 4,
 "nbformat_minor": 5
}
