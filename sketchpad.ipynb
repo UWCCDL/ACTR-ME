{
 "cells": [
  {
   "cell_type": "code",
   "execution_count": 34,
   "id": "7e79b5d0-d09b-48d5-9fa3-2fbeab490f5a",
   "metadata": {},
   "outputs": [],
   "source": [
    "import pyactup as pya"
   ]
  },
  {
   "cell_type": "code",
   "execution_count": 58,
   "id": "6167ba5d-a46a-415c-83b1-2844cf432f90",
   "metadata": {},
   "outputs": [
    {
     "data": {
      "text/plain": [
       "<Chunk 0003 {'swahili': 'samaki', 'english': 'fish'} 1>"
      ]
     },
     "execution_count": 58,
     "metadata": {},
     "output_type": "execute_result"
    }
   ],
   "source": [
    "M = pya.Memory()\n",
    "M.learn({\"swahili\":\"samaki\", \"english\":\"fish\"}, advance=1)\n",
    "M.retrieve({\"swahili\":\"samaki\"})"
   ]
  },
  {
   "cell_type": "code",
   "execution_count": 76,
   "id": "b95b1b30-ff61-45f9-b417-1e8124601420",
   "metadata": {},
   "outputs": [
    {
     "data": {
      "text/plain": [
       "13.6"
      ]
     },
     "execution_count": 76,
     "metadata": {},
     "output_type": "execute_result"
    }
   ],
   "source": [
    "M.advance(2.1)"
   ]
  }
 ],
 "metadata": {
  "kernelspec": {
   "display_name": "Python [conda env:base] *",
   "language": "python",
   "name": "conda-base-py"
  },
  "language_info": {
   "codemirror_mode": {
    "name": "ipython",
    "version": 3
   },
   "file_extension": ".py",
   "mimetype": "text/x-python",
   "name": "python",
   "nbconvert_exporter": "python",
   "pygments_lexer": "ipython3",
   "version": "3.11.7"
  }
 },
 "nbformat": 4,
 "nbformat_minor": 5
}
