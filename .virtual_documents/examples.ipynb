


import actrme
import pandas as pd
import modules.declarative as dm
import pandas as pd
from importlib import reload


reload(declarat)





data = pd.read_csv("data/memory_experiment.csv")
data





model = me.DataModel(data)
model





dm = basic.DeclarativeMemory()
model.add_module(dm)



# DM has 3 inputs (encode, time, retrieve), so all of these inputs are 
# now part of the model's inputs.
model.inputs()

# This should return
#    > model.inputs()
#    > ["encode", "time", "retrieve"]
# 

# DM has 2 outputs (response, rt), so all of these outputs are 
# now part of the model's outputs.
model.outputs()

# This should return
#    > model.outputs()
#    > ["rt", "response", "response_probability", "rt_probability"]
# 

# Now, connect the model to the file

model.connect_input("encode", data.study)
model.connect_input("time", data.time)
model.connect_input("retrieve", data.cue)

# We want to simply maximize the probability of a response

model.connect_output("probability", data.acc)

# Now fit:
model.fit()

# now, this will go trial-by-trial over the probabilities
for row in data:
    if encode is not None:
        dm.learn()
